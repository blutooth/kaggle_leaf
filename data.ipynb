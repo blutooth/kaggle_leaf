{
 "cells": [
  {
   "cell_type": "code",
   "execution_count": null,
   "metadata": {
    "collapsed": false
   },
   "outputs": [],
   "source": [
    "# Read files from zip to csv and get labels\n",
    "import pandas as pd\n",
    "import zipfile\n",
    "from sklearn.preprocessing import LabelEncoder\n",
    "\n",
    "zip_ref = zipfile.ZipFile('train.csv.zip', 'r')\n",
    "name_list = zip_ref.namelist()\n",
    "zip_ref.extract(name_list[0])\n",
    "train = pd.read_csv('train.csv')\n",
    "\n",
    "zip_ref = zipfile.ZipFile('test.csv.zip', 'r')\n",
    "name_list = zip_ref.namelist()\n",
    "zip_ref.extract(name_list[0])\n",
    "test = pd.read_csv('test.csv')\n",
    "\n",
    "\n",
    "def labels_ids(train):\n",
    "    #labeler = LabelEncoder().fit(train.species)\n",
    "    #labels = labeler.transform(train.species)\n",
    "    label_map = dict(zip(train['id'], train['species']))\n",
    "    classes = set(train['species'])\n",
    "    return label_map, classes\n",
    "\n",
    "label_map, classes = labels_ids(train)\n",
    "\n",
    "\n",
    "\n"
   ]
  },
  {
   "cell_type": "code",
   "execution_count": null,
   "metadata": {
    "collapsed": false
   },
   "outputs": [],
   "source": [
    "## preserve aspect ratio whilst resizing\n",
    "#http://stackoverflow.com/questions/9103257/resize-image-maintaining-aspect-ratio-and-making-portrait-and-landscape-images-e\n",
    "from PIL import Image, ImageChops, ImageOps\n",
    "from os import path, makedirs, scandir, system\n",
    "\n",
    "\n",
    "# resize image and maintain asdpect ratio\n",
    "def makeThumb(f_in, size=(96,96), pad=True):\n",
    "    \n",
    "    image = Image.open(f_in)\n",
    "    image.thumbnail(size, Image.ANTIALIAS)\n",
    "    \n",
    "    \n",
    "    #TODO: change this to add blank row\n",
    "    if image.size[1]%2 != 0:\n",
    "        image = image.crop((0,0, image.size[0], image.size[1]-1))\n",
    "    image_size = image.size\n",
    "    if pad:\n",
    "        thumb = image.crop( (0, 0, size[0], size[1]) )\n",
    "\n",
    "        offset_x = max( (size[0] - image_size[0]) // 2, 0 )\n",
    "        offset_y = max( (size[1] - image_size[1]) // 2, 0 )\n",
    "\n",
    "        thumb = ImageChops.offset(thumb, offset_x, offset_y)\n",
    "\n",
    "    else:\n",
    "        thumb = ImageOps.fit(image, size, Image.ANTIALIAS, (0.5, 0.5))\n",
    "    return thumb\n",
    "\n",
    "from matplotlib import pyplot as plt\n",
    "from IPython import display\n",
    "\n",
    "leaf_imgs = dict()\n",
    "\n",
    "# Need to also save them depending on the right class\n",
    "    \n",
    "\n",
    "        \n",
    "name_list = [entry.name for entry in scandir('images') if entry.is_file()]\n",
    "\n",
    "system('rm -rf train')\n",
    "system('rm -rf valid')\n",
    "\n",
    "from collections import Counter\n",
    "count = Counter()\n",
    "for i,f_in in enumerate(name_list[1:]):\n",
    "    leaf_imgs[i] = makeThumb('images/'+f_in)\n",
    "    iden = int(f_in.split('.')[0])\n",
    "    if iden in label_map.keys():\n",
    "        \n",
    "        label = label_map[iden]\n",
    "        if count[label]<2: \n",
    "            directory = \"valid/\"+label\n",
    "            count[label] += 1\n",
    "        else:\n",
    "            directory = \"train/\"+label\n",
    "            \n",
    "    else:\n",
    "        directory = 'test_imgs'\n",
    "    if not path.exists(directory):\n",
    "        makedirs(directory)\n",
    "    leaf_imgs[i].save(directory+'/'+f_in,'JPEG')\n"
   ]
  },
  {
   "cell_type": "code",
   "execution_count": 57,
   "metadata": {
    "collapsed": false
   },
   "outputs": [
    {
     "ename": "SyntaxError",
     "evalue": "invalid syntax (<ipython-input-57-e318168fdd6c>, line 2)",
     "output_type": "error",
     "traceback": [
      "\u001b[0;36m  File \u001b[0;32m\"<ipython-input-57-e318168fdd6c>\"\u001b[0;36m, line \u001b[0;32m2\u001b[0m\n\u001b[0;31m    for class in classes:\u001b[0m\n\u001b[0m            ^\u001b[0m\n\u001b[0;31mSyntaxError\u001b[0m\u001b[0;31m:\u001b[0m invalid syntax\n"
     ]
    }
   ],
   "source": [
    "\n",
    "    \n"
   ]
  },
  {
   "cell_type": "code",
   "execution_count": null,
   "metadata": {
    "collapsed": false,
    "scrolled": true
   },
   "outputs": [],
   "source": [
    "## Augment data_set Using Keras\n",
    "from keras.preprocessing.image import ImageDataGenerator, array_to_img, img_to_array, load_img\n",
    "\n",
    "datagen = ImageDataGenerator(\n",
    "        rotation_range=20,\n",
    "        width_shift_range=0.1,\n",
    "        height_shift_range=0.1,\n",
    "        zoom_range=0.2,\n",
    "        horizontal_flip=True,\n",
    "        fill_mode='nearest')\n",
    "\n",
    "# the .flow() command below generates batches of randomly transformed images\n",
    "# and saves the results to the `preview/` directory\n",
    "\n",
    "if not path.exists(\"aug_imgs\"):\n",
    "            makedirs(\"aug_imgs\")\n",
    "\n",
    "train_generator = datagen.flow_from_directory(\n",
    "        directory = 'train',  # this is the target directory\n",
    "        batch_size= 32,\n",
    "        target_size = (96,96),\n",
    "        class_mode='categorical',\n",
    "        save_to_dir = 'aug_imgs',\n",
    "        color_mode ='grayscale'\n",
    "        )  \n",
    "\n",
    "\n",
    "valid_generator = datagen.flow_from_directory(\n",
    "        directory = 'valid',  # this is the target directory\n",
    "        batch_size= 32,\n",
    "        target_size = (96,96),\n",
    "        class_mode='categorical',\n",
    "        save_to_dir = 'aug_imgs',\n",
    "        color_mode ='grayscale'\n",
    "        )   \n",
    "\n"
   ]
  },
  {
   "cell_type": "code",
   "execution_count": null,
   "metadata": {
    "collapsed": false
   },
   "outputs": [],
   "source": [
    "# Create the Keras model\n",
    "\n",
    "from keras.models import Sequential\n",
    "from keras.layers import Convolution2D, MaxPooling2D\n",
    "from keras.layers import Activation, Dropout, Flatten, Dense\n",
    "\n",
    "model = Sequential()\n",
    "model.add(Convolution2D(nb_filter=32, nb_row =3, nb_col= 3, \n",
    "                        input_shape=(96, 96, 1), dim_ordering=\"tf\"))\n",
    "model.add(Activation('relu'))\n",
    "model.add(MaxPooling2D(pool_size=(2, 2)))\n",
    "\n",
    "model.add(Convolution2D(32, 3, 3))\n",
    "model.add(Activation('relu'))\n",
    "model.add(MaxPooling2D(pool_size=(2, 2)))\n",
    "\n",
    "model.add(Convolution2D(64, 3, 3))\n",
    "model.add(Activation('relu'))\n",
    "model.add(MaxPooling2D(pool_size=(4, 4)))\n",
    "\n",
    "model.add(Flatten())  # this converts our 3D feature maps to 1D feature vectors\n",
    "model.add(Dense(64))\n",
    "model.add(Activation('relu'))\n",
    "model.add(Dropout(0.1))\n",
    "model.add(Dense(99))\n",
    "model.add(Activation('sigmoid'))\n",
    "\n",
    "\n",
    "model.compile(optimizer='rmsprop',\n",
    "              loss='categorical_crossentropy',\n",
    "              metrics=['accuracy'])"
   ]
  },
  {
   "cell_type": "code",
   "execution_count": null,
   "metadata": {
    "collapsed": false
   },
   "outputs": [],
   "source": [
    "model.fit_generator(\n",
    "        train_generator,\n",
    "        samples_per_epoch=20000,\n",
    "        nb_epoch=10,\n",
    "        validation_data=valid_generator,\n",
    "        nb_val_samples=32*10)\n",
    "\n",
    "model.save_weights('first_try.h5')"
   ]
  },
  {
   "cell_type": "code",
   "execution_count": null,
   "metadata": {
    "collapsed": true
   },
   "outputs": [],
   "source": []
  }
 ],
 "metadata": {
  "kernelspec": {
   "display_name": "Python 3 Kaggle Leaf",
   "language": "python",
   "name": "python 3 kaggle leaf"
  },
  "language_info": {
   "codemirror_mode": {
    "name": "ipython",
    "version": 3
   },
   "file_extension": ".py",
   "mimetype": "text/x-python",
   "name": "python",
   "nbconvert_exporter": "python",
   "pygments_lexer": "ipython3",
   "version": "3.5.1+"
  }
 },
 "nbformat": 4,
 "nbformat_minor": 1
}
